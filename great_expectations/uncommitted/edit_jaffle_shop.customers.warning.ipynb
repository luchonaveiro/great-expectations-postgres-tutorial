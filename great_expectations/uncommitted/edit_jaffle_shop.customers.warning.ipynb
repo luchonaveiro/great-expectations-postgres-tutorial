{
 "cells": [
  {
   "cell_type": "markdown",
   "id": "settled-scope",
   "metadata": {},
   "source": [
    "# Edit Your Expectation Suite\n",
    "Use this notebook to recreate and modify your expectation suite:\n",
    "\n",
    "**Expectation Suite Name**: `jaffle_shop.customers.warning`\n"
   ]
  },
  {
   "cell_type": "code",
   "execution_count": null,
   "id": "broke-infrastructure",
   "metadata": {},
   "outputs": [],
   "source": [
    "import datetime\n",
    "\n",
    "import pandas as pd\n",
    "\n",
    "import great_expectations as ge\n",
    "import great_expectations.jupyter_ux\n",
    "from great_expectations.core.batch import BatchRequest\n",
    "from great_expectations.checkpoint import SimpleCheckpoint\n",
    "from great_expectations.exceptions import DataContextError\n",
    "\n",
    "context = ge.data_context.DataContext()\n",
    "\n",
    "# Note that if you modify this batch request, you may save the new version as a .json file\n",
    "#  to pass in later via the --batch-request option\n",
    "batch_request = {\n",
    "    \"datasource_name\": \"jaffle_shop\",\n",
    "    \"data_connector_name\": \"default_inferred_data_connector_name\",\n",
    "    \"data_asset_name\": \"jaffle_shop.customers\",\n",
    "    \"limit\": 1000,\n",
    "}\n",
    "\n",
    "\n",
    "# Feel free to change the name of your suite here. Renaming this will not remove the other one.\n",
    "expectation_suite_name = \"jaffle_shop.customers.warning\"\n",
    "try:\n",
    "    suite = context.get_expectation_suite(expectation_suite_name=expectation_suite_name)\n",
    "    print(\n",
    "        f'Loaded ExpectationSuite \"{suite.expectation_suite_name}\" containing {len(suite.expectations)} expectations.'\n",
    "    )\n",
    "except DataContextError:\n",
    "    suite = context.create_expectation_suite(\n",
    "        expectation_suite_name=expectation_suite_name\n",
    "    )\n",
    "    print(f'Created ExpectationSuite \"{suite.expectation_suite_name}\".')\n",
    "\n",
    "\n",
    "validator = context.get_validator(\n",
    "    batch_request=BatchRequest(**batch_request),\n",
    "    expectation_suite_name=expectation_suite_name,\n",
    ")\n",
    "column_names = [f'\"{column_name}\"' for column_name in validator.columns()]\n",
    "print(f\"Columns: {', '.join(column_names)}.\")\n",
    "validator.head(n_rows=5, fetch_all=False)"
   ]
  },
  {
   "cell_type": "markdown",
   "id": "fourth-voluntary",
   "metadata": {},
   "source": [
    "## Create & Edit Expectations\n",
    "\n",
    "\n",
    "Add expectations by calling specific expectation methods on the `validator` object. They all begin with `.expect_` which makes autocompleting easy using tab.\n",
    "\n",
    "Because you selected interactive mode, you are now creating or editing an Expectation Suite with validator feedback from the sample batch of data that you specified (see `batch_request`).\n",
    "\n",
    "Note that if you select manual mode you may still create or edit an Expectation Suite directly, without feedback from the `validator`. See our documentation for more info and examples: [How to create a new Expectation Suite without a sample batch](https://docs.greatexpectations.io/docs/guides/expectations/how_to_create_and_edit_expectations_based_on_domain_knowledge_without_inspecting_data_directly).\n",
    "\n",
    "\n",
    "\n",
    "You can see all the available expectations in the **[expectation gallery](https://greatexpectations.io/expectations)**."
   ]
  },
  {
   "cell_type": "markdown",
   "id": "established-olive",
   "metadata": {},
   "source": [
    "### Table Expectation(s)"
   ]
  },
  {
   "cell_type": "code",
   "execution_count": null,
   "id": "invalid-article",
   "metadata": {},
   "outputs": [],
   "source": [
    "validator.expect_table_columns_to_match_ordered_list(\n",
    "    column_list=[\"id\", \"first_name\", \"last_name\"]\n",
    ")"
   ]
  },
  {
   "cell_type": "code",
   "execution_count": null,
   "id": "lesbian-vacuum",
   "metadata": {},
   "outputs": [],
   "source": [
    "validator.expect_table_row_count_to_be_between(max_value=100, min_value=100)"
   ]
  },
  {
   "cell_type": "markdown",
   "id": "lucky-publication",
   "metadata": {},
   "source": [
    "### Column Expectation(s)"
   ]
  },
  {
   "cell_type": "markdown",
   "id": "approved-leadership",
   "metadata": {},
   "source": [
    "#### `id`"
   ]
  },
  {
   "cell_type": "code",
   "execution_count": null,
   "id": "young-albert",
   "metadata": {},
   "outputs": [],
   "source": [
    "validator.expect_column_min_to_be_between(column=\"id\", max_value=1, min_value=1)"
   ]
  },
  {
   "cell_type": "code",
   "execution_count": null,
   "id": "handmade-composition",
   "metadata": {},
   "outputs": [],
   "source": [
    "validator.expect_column_max_to_be_between(column=\"id\", max_value=100, min_value=100)"
   ]
  },
  {
   "cell_type": "code",
   "execution_count": null,
   "id": "color-delta",
   "metadata": {},
   "outputs": [],
   "source": [
    "validator.expect_column_mean_to_be_between(column=\"id\", max_value=50.5, min_value=50.5)"
   ]
  },
  {
   "cell_type": "code",
   "execution_count": null,
   "id": "indie-rotation",
   "metadata": {},
   "outputs": [],
   "source": [
    "validator.expect_column_median_to_be_between(\n",
    "    column=\"id\", max_value=50.5, min_value=50.5\n",
    ")"
   ]
  },
  {
   "cell_type": "code",
   "execution_count": null,
   "id": "impressed-calcium",
   "metadata": {},
   "outputs": [],
   "source": [
    "validator.expect_column_values_to_not_be_null(column=\"id\")"
   ]
  },
  {
   "cell_type": "code",
   "execution_count": null,
   "id": "hazardous-survivor",
   "metadata": {},
   "outputs": [],
   "source": [
    "validator.expect_column_values_to_be_in_type_list(\n",
    "    column=\"id\",\n",
    "    type_list=[\n",
    "        \"INTEGER\",\n",
    "        \"integer\",\n",
    "        \"int\",\n",
    "        \"int_\",\n",
    "        \"int8\",\n",
    "        \"int16\",\n",
    "        \"int32\",\n",
    "        \"int64\",\n",
    "        \"uint8\",\n",
    "        \"uint16\",\n",
    "        \"uint32\",\n",
    "        \"uint64\",\n",
    "        \"Int8Dtype\",\n",
    "        \"Int16Dtype\",\n",
    "        \"Int32Dtype\",\n",
    "        \"Int64Dtype\",\n",
    "        \"UInt8Dtype\",\n",
    "        \"UInt16Dtype\",\n",
    "        \"UInt32Dtype\",\n",
    "        \"UInt64Dtype\",\n",
    "        \"INT\",\n",
    "        \"INTEGER\",\n",
    "        \"INT64\",\n",
    "        \"TINYINT\",\n",
    "        \"BYTEINT\",\n",
    "        \"SMALLINT\",\n",
    "        \"BIGINT\",\n",
    "        \"IntegerType\",\n",
    "        \"LongType\",\n",
    "    ],\n",
    ")"
   ]
  },
  {
   "cell_type": "code",
   "execution_count": null,
   "id": "multiple-steering",
   "metadata": {},
   "outputs": [],
   "source": [
    "validator.expect_column_values_to_be_unique(column=\"id\")"
   ]
  },
  {
   "cell_type": "markdown",
   "id": "compressed-sheffield",
   "metadata": {},
   "source": [
    "#### `first_name`"
   ]
  },
  {
   "cell_type": "code",
   "execution_count": null,
   "id": "honest-transcription",
   "metadata": {},
   "outputs": [],
   "source": [
    "validator.expect_column_values_to_not_be_null(column=\"first_name\")"
   ]
  },
  {
   "cell_type": "code",
   "execution_count": null,
   "id": "complicated-amazon",
   "metadata": {},
   "outputs": [],
   "source": [
    "validator.expect_column_values_to_be_in_type_list(\n",
    "    column=\"first_name\",\n",
    "    type_list=[\n",
    "        \"CHAR\",\n",
    "        \"NCHAR\",\n",
    "        \"VARCHAR\",\n",
    "        \"NVARCHAR\",\n",
    "        \"TEXT\",\n",
    "        \"NTEXT\",\n",
    "        \"STRING\",\n",
    "        \"StringType\",\n",
    "        \"string\",\n",
    "        \"str\",\n",
    "        \"object\",\n",
    "        \"dtype('O')\",\n",
    "    ],\n",
    ")"
   ]
  },
  {
   "cell_type": "markdown",
   "id": "collectible-helena",
   "metadata": {},
   "source": [
    "#### `last_name`"
   ]
  },
  {
   "cell_type": "code",
   "execution_count": null,
   "id": "distant-error",
   "metadata": {},
   "outputs": [],
   "source": [
    "validator.expect_column_values_to_not_be_null(column=\"last_name\")"
   ]
  },
  {
   "cell_type": "code",
   "execution_count": null,
   "id": "crazy-annual",
   "metadata": {},
   "outputs": [],
   "source": [
    "validator.expect_column_values_to_be_in_type_list(\n",
    "    column=\"last_name\",\n",
    "    type_list=[\n",
    "        \"CHAR\",\n",
    "        \"NCHAR\",\n",
    "        \"VARCHAR\",\n",
    "        \"NVARCHAR\",\n",
    "        \"TEXT\",\n",
    "        \"NTEXT\",\n",
    "        \"STRING\",\n",
    "        \"StringType\",\n",
    "        \"string\",\n",
    "        \"str\",\n",
    "        \"object\",\n",
    "        \"dtype('O')\",\n",
    "    ],\n",
    ")"
   ]
  },
  {
   "cell_type": "markdown",
   "id": "offshore-anthropology",
   "metadata": {},
   "source": [
    "## Review & Save Your Expectations\n",
    "\n",
    "Let's save the expectation suite as a JSON file in the `great_expectations/expectations` directory of your project.\n",
    "\n",
    "Let's now rebuild your Data Docs, which helps you communicate about your data with both machines and humans."
   ]
  },
  {
   "cell_type": "code",
   "execution_count": null,
   "id": "regulated-shuttle",
   "metadata": {},
   "outputs": [],
   "source": [
    "print(validator.get_expectation_suite(discard_failed_expectations=False))\n",
    "validator.save_expectation_suite(discard_failed_expectations=False)\n",
    "\n",
    "checkpoint_config = {\n",
    "    \"class_name\": \"SimpleCheckpoint\",\n",
    "    \"validations\": [\n",
    "        {\n",
    "            \"batch_request\": batch_request,\n",
    "            \"expectation_suite_name\": expectation_suite_name\n",
    "        }\n",
    "    ]\n",
    "}\n",
    "checkpoint = SimpleCheckpoint(\n",
    "    f\"_tmp_checkpoint_{expectation_suite_name}\",\n",
    "    context,\n",
    "    **checkpoint_config\n",
    ")\n",
    "checkpoint_result = checkpoint.run()\n",
    "\n",
    "context.build_data_docs()\n",
    "\n",
    "validation_result_identifier = checkpoint_result.list_validation_result_identifiers()[0]\n",
    "context.open_data_docs(resource_identifier=validation_result_identifier)"
   ]
  }
 ],
 "metadata": {},
 "nbformat": 4,
 "nbformat_minor": 5
}
