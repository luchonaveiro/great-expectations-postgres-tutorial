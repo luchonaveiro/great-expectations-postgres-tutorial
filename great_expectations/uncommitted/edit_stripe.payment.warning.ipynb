{
 "cells": [
  {
   "cell_type": "markdown",
   "id": "false-gallery",
   "metadata": {},
   "source": [
    "# Edit Your Expectation Suite\n",
    "Use this notebook to recreate and modify your expectation suite:\n",
    "\n",
    "**Expectation Suite Name**: `stripe.payment.warning`\n"
   ]
  },
  {
   "cell_type": "code",
   "execution_count": null,
   "id": "precious-webcam",
   "metadata": {},
   "outputs": [],
   "source": [
    "import datetime\n",
    "\n",
    "import pandas as pd\n",
    "\n",
    "import great_expectations as ge\n",
    "import great_expectations.jupyter_ux\n",
    "from great_expectations.core.batch import BatchRequest\n",
    "from great_expectations.checkpoint import SimpleCheckpoint\n",
    "from great_expectations.exceptions import DataContextError\n",
    "\n",
    "context = ge.data_context.DataContext()\n",
    "\n",
    "# Note that if you modify this batch request, you may save the new version as a .json file\n",
    "#  to pass in later via the --batch-request option\n",
    "batch_request = {\n",
    "    \"datasource_name\": \"jaffle_shop\",\n",
    "    \"data_connector_name\": \"default_inferred_data_connector_name\",\n",
    "    \"data_asset_name\": \"stripe.payment\",\n",
    "    \"limit\": 1000,\n",
    "}\n",
    "\n",
    "\n",
    "# Feel free to change the name of your suite here. Renaming this will not remove the other one.\n",
    "expectation_suite_name = \"stripe.payment.warning\"\n",
    "try:\n",
    "    suite = context.get_expectation_suite(expectation_suite_name=expectation_suite_name)\n",
    "    print(\n",
    "        f'Loaded ExpectationSuite \"{suite.expectation_suite_name}\" containing {len(suite.expectations)} expectations.'\n",
    "    )\n",
    "except DataContextError:\n",
    "    suite = context.create_expectation_suite(\n",
    "        expectation_suite_name=expectation_suite_name\n",
    "    )\n",
    "    print(f'Created ExpectationSuite \"{suite.expectation_suite_name}\".')\n",
    "\n",
    "\n",
    "validator = context.get_validator(\n",
    "    batch_request=BatchRequest(**batch_request),\n",
    "    expectation_suite_name=expectation_suite_name,\n",
    ")\n",
    "column_names = [f'\"{column_name}\"' for column_name in validator.columns()]\n",
    "print(f\"Columns: {', '.join(column_names)}.\")\n",
    "validator.head(n_rows=5, fetch_all=False)"
   ]
  },
  {
   "cell_type": "markdown",
   "id": "forbidden-hydrogen",
   "metadata": {},
   "source": [
    "## Create & Edit Expectations\n",
    "\n",
    "\n",
    "Add expectations by calling specific expectation methods on the `validator` object. They all begin with `.expect_` which makes autocompleting easy using tab.\n",
    "\n",
    "Because you selected interactive mode, you are now creating or editing an Expectation Suite with validator feedback from the sample batch of data that you specified (see `batch_request`).\n",
    "\n",
    "Note that if you select manual mode you may still create or edit an Expectation Suite directly, without feedback from the `validator`. See our documentation for more info and examples: [How to create a new Expectation Suite without a sample batch](https://docs.greatexpectations.io/docs/guides/expectations/how_to_create_and_edit_expectations_based_on_domain_knowledge_without_inspecting_data_directly).\n",
    "\n",
    "\n",
    "\n",
    "You can see all the available expectations in the **[expectation gallery](https://greatexpectations.io/expectations)**."
   ]
  },
  {
   "cell_type": "markdown",
   "id": "false-handle",
   "metadata": {},
   "source": [
    "### Table Expectation(s)"
   ]
  },
  {
   "cell_type": "code",
   "execution_count": null,
   "id": "laughing-orleans",
   "metadata": {},
   "outputs": [],
   "source": [
    "validator.expect_table_columns_to_match_ordered_list(\n",
    "    column_list=[\n",
    "        \"id\",\n",
    "        \"orderid\",\n",
    "        \"paymentmethod\",\n",
    "        \"status\",\n",
    "        \"amount\",\n",
    "        \"created\",\n",
    "        \"_batched_at\",\n",
    "    ]\n",
    ")"
   ]
  },
  {
   "cell_type": "code",
   "execution_count": null,
   "id": "tough-correlation",
   "metadata": {},
   "outputs": [],
   "source": [
    "validator.expect_table_row_count_to_be_between(max_value=120, min_value=120)"
   ]
  },
  {
   "cell_type": "markdown",
   "id": "hungarian-receptor",
   "metadata": {},
   "source": [
    "### Column Expectation(s)"
   ]
  },
  {
   "cell_type": "markdown",
   "id": "immediate-citation",
   "metadata": {},
   "source": [
    "#### `id`"
   ]
  },
  {
   "cell_type": "code",
   "execution_count": null,
   "id": "dangerous-portugal",
   "metadata": {},
   "outputs": [],
   "source": [
    "validator.expect_column_values_to_not_be_null(column=\"id\")"
   ]
  },
  {
   "cell_type": "code",
   "execution_count": null,
   "id": "smaller-protocol",
   "metadata": {},
   "outputs": [],
   "source": [
    "validator.expect_column_values_to_be_in_type_list(\n",
    "    column=\"id\",\n",
    "    type_list=[\n",
    "        \"INTEGER\",\n",
    "        \"integer\",\n",
    "        \"int\",\n",
    "        \"int_\",\n",
    "        \"int8\",\n",
    "        \"int16\",\n",
    "        \"int32\",\n",
    "        \"int64\",\n",
    "        \"uint8\",\n",
    "        \"uint16\",\n",
    "        \"uint32\",\n",
    "        \"uint64\",\n",
    "        \"Int8Dtype\",\n",
    "        \"Int16Dtype\",\n",
    "        \"Int32Dtype\",\n",
    "        \"Int64Dtype\",\n",
    "        \"UInt8Dtype\",\n",
    "        \"UInt16Dtype\",\n",
    "        \"UInt32Dtype\",\n",
    "        \"UInt64Dtype\",\n",
    "        \"INT\",\n",
    "        \"INTEGER\",\n",
    "        \"INT64\",\n",
    "        \"TINYINT\",\n",
    "        \"BYTEINT\",\n",
    "        \"SMALLINT\",\n",
    "        \"BIGINT\",\n",
    "        \"IntegerType\",\n",
    "        \"LongType\",\n",
    "    ],\n",
    ")"
   ]
  },
  {
   "cell_type": "code",
   "execution_count": null,
   "id": "nearby-peoples",
   "metadata": {},
   "outputs": [],
   "source": [
    "validator.expect_column_values_to_be_unique(column=\"id\")"
   ]
  },
  {
   "cell_type": "markdown",
   "id": "monthly-christianity",
   "metadata": {},
   "source": [
    "#### `orderid`"
   ]
  },
  {
   "cell_type": "code",
   "execution_count": null,
   "id": "color-murder",
   "metadata": {},
   "outputs": [],
   "source": [
    "validator.expect_column_values_to_not_be_null(column=\"orderid\")"
   ]
  },
  {
   "cell_type": "code",
   "execution_count": null,
   "id": "changing-lemon",
   "metadata": {},
   "outputs": [],
   "source": [
    "validator.expect_column_values_to_be_in_type_list(\n",
    "    column=\"orderid\",\n",
    "    type_list=[\n",
    "        \"INTEGER\",\n",
    "        \"integer\",\n",
    "        \"int\",\n",
    "        \"int_\",\n",
    "        \"int8\",\n",
    "        \"int16\",\n",
    "        \"int32\",\n",
    "        \"int64\",\n",
    "        \"uint8\",\n",
    "        \"uint16\",\n",
    "        \"uint32\",\n",
    "        \"uint64\",\n",
    "        \"Int8Dtype\",\n",
    "        \"Int16Dtype\",\n",
    "        \"Int32Dtype\",\n",
    "        \"Int64Dtype\",\n",
    "        \"UInt8Dtype\",\n",
    "        \"UInt16Dtype\",\n",
    "        \"UInt32Dtype\",\n",
    "        \"UInt64Dtype\",\n",
    "        \"INT\",\n",
    "        \"INTEGER\",\n",
    "        \"INT64\",\n",
    "        \"TINYINT\",\n",
    "        \"BYTEINT\",\n",
    "        \"SMALLINT\",\n",
    "        \"BIGINT\",\n",
    "        \"IntegerType\",\n",
    "        \"LongType\",\n",
    "    ],\n",
    ")"
   ]
  },
  {
   "cell_type": "markdown",
   "id": "furnished-cable",
   "metadata": {},
   "source": [
    "#### `paymentmethod`"
   ]
  },
  {
   "cell_type": "code",
   "execution_count": null,
   "id": "brown-union",
   "metadata": {},
   "outputs": [],
   "source": [
    "validator.expect_column_values_to_be_in_set(\n",
    "    column=\"paymentmethod\",\n",
    "    value_set=[\"bank_transfer\", \"coupon\", \"credit_card\", \"gift_card\"],\n",
    ")"
   ]
  },
  {
   "cell_type": "code",
   "execution_count": null,
   "id": "willing-russian",
   "metadata": {},
   "outputs": [],
   "source": [
    "validator.expect_column_values_to_not_be_null(column=\"paymentmethod\")"
   ]
  },
  {
   "cell_type": "code",
   "execution_count": null,
   "id": "absolute-chase",
   "metadata": {},
   "outputs": [],
   "source": [
    "validator.expect_column_values_to_be_in_type_list(\n",
    "    column=\"paymentmethod\",\n",
    "    type_list=[\n",
    "        \"CHAR\",\n",
    "        \"NCHAR\",\n",
    "        \"VARCHAR\",\n",
    "        \"NVARCHAR\",\n",
    "        \"TEXT\",\n",
    "        \"NTEXT\",\n",
    "        \"STRING\",\n",
    "        \"StringType\",\n",
    "        \"string\",\n",
    "        \"str\",\n",
    "        \"object\",\n",
    "        \"dtype('O')\",\n",
    "    ],\n",
    ")"
   ]
  },
  {
   "cell_type": "markdown",
   "id": "scheduled-intent",
   "metadata": {},
   "source": [
    "#### `status`"
   ]
  },
  {
   "cell_type": "code",
   "execution_count": null,
   "id": "typical-teach",
   "metadata": {},
   "outputs": [],
   "source": [
    "validator.expect_column_values_to_be_in_set(\n",
    "    column=\"status\", value_set=[\"fail\", \"success\"]\n",
    ")"
   ]
  },
  {
   "cell_type": "code",
   "execution_count": null,
   "id": "three-survival",
   "metadata": {},
   "outputs": [],
   "source": [
    "validator.expect_column_values_to_not_be_null(column=\"status\")"
   ]
  },
  {
   "cell_type": "code",
   "execution_count": null,
   "id": "engaging-memphis",
   "metadata": {},
   "outputs": [],
   "source": [
    "validator.expect_column_values_to_be_in_type_list(\n",
    "    column=\"status\",\n",
    "    type_list=[\n",
    "        \"CHAR\",\n",
    "        \"NCHAR\",\n",
    "        \"VARCHAR\",\n",
    "        \"NVARCHAR\",\n",
    "        \"TEXT\",\n",
    "        \"NTEXT\",\n",
    "        \"STRING\",\n",
    "        \"StringType\",\n",
    "        \"string\",\n",
    "        \"str\",\n",
    "        \"object\",\n",
    "        \"dtype('O')\",\n",
    "    ],\n",
    ")"
   ]
  },
  {
   "cell_type": "markdown",
   "id": "accomplished-processor",
   "metadata": {},
   "source": [
    "#### `amount`"
   ]
  },
  {
   "cell_type": "code",
   "execution_count": null,
   "id": "linear-stanford",
   "metadata": {},
   "outputs": [],
   "source": [
    "validator.expect_column_min_to_be_between(column=\"amount\", max_value=0, min_value=0)"
   ]
  },
  {
   "cell_type": "code",
   "execution_count": null,
   "id": "individual-mining",
   "metadata": {},
   "outputs": [],
   "source": [
    "validator.expect_column_max_to_be_between(\n",
    "    column=\"amount\", max_value=3000, min_value=3000\n",
    ")"
   ]
  },
  {
   "cell_type": "code",
   "execution_count": null,
   "id": "legitimate-surface",
   "metadata": {},
   "outputs": [],
   "source": [
    "validator.expect_column_mean_to_be_between(\n",
    "    column=\"amount\", max_value=1469.1666666666667, min_value=1469.1666666666667\n",
    ")"
   ]
  },
  {
   "cell_type": "code",
   "execution_count": null,
   "id": "analyzed-infrastructure",
   "metadata": {},
   "outputs": [],
   "source": [
    "validator.expect_column_median_to_be_between(\n",
    "    column=\"amount\", max_value=1500.0, min_value=1500.0\n",
    ")"
   ]
  },
  {
   "cell_type": "code",
   "execution_count": null,
   "id": "arbitrary-geology",
   "metadata": {},
   "outputs": [],
   "source": [
    "validator.expect_column_quantile_values_to_be_between(\n",
    "    column=\"amount\",\n",
    "    allow_relative_error=True,\n",
    "    quantile_ranges={\n",
    "        \"quantiles\": [0.05, 0.25, 0.5, 0.75, 0.95],\n",
    "        \"value_ranges\": [\n",
    "            [100, 100],\n",
    "            [600, 600],\n",
    "            [1500, 1500],\n",
    "            [2300, 2300],\n",
    "            [2900, 2900],\n",
    "        ],\n",
    "    },\n",
    ")"
   ]
  },
  {
   "cell_type": "code",
   "execution_count": null,
   "id": "unlimited-europe",
   "metadata": {},
   "outputs": [],
   "source": [
    "validator.expect_column_values_to_not_be_null(column=\"amount\")"
   ]
  },
  {
   "cell_type": "code",
   "execution_count": null,
   "id": "retired-speaking",
   "metadata": {},
   "outputs": [],
   "source": [
    "validator.expect_column_values_to_be_in_type_list(\n",
    "    column=\"amount\",\n",
    "    type_list=[\n",
    "        \"INTEGER\",\n",
    "        \"integer\",\n",
    "        \"int\",\n",
    "        \"int_\",\n",
    "        \"int8\",\n",
    "        \"int16\",\n",
    "        \"int32\",\n",
    "        \"int64\",\n",
    "        \"uint8\",\n",
    "        \"uint16\",\n",
    "        \"uint32\",\n",
    "        \"uint64\",\n",
    "        \"Int8Dtype\",\n",
    "        \"Int16Dtype\",\n",
    "        \"Int32Dtype\",\n",
    "        \"Int64Dtype\",\n",
    "        \"UInt8Dtype\",\n",
    "        \"UInt16Dtype\",\n",
    "        \"UInt32Dtype\",\n",
    "        \"UInt64Dtype\",\n",
    "        \"INT\",\n",
    "        \"INTEGER\",\n",
    "        \"INT64\",\n",
    "        \"TINYINT\",\n",
    "        \"BYTEINT\",\n",
    "        \"SMALLINT\",\n",
    "        \"BIGINT\",\n",
    "        \"IntegerType\",\n",
    "        \"LongType\",\n",
    "    ],\n",
    ")"
   ]
  },
  {
   "cell_type": "markdown",
   "id": "capital-adapter",
   "metadata": {},
   "source": [
    "#### `created`"
   ]
  },
  {
   "cell_type": "code",
   "execution_count": null,
   "id": "bright-newark",
   "metadata": {},
   "outputs": [],
   "source": [
    "validator.expect_column_values_to_not_be_null(column=\"created\")"
   ]
  },
  {
   "cell_type": "code",
   "execution_count": null,
   "id": "several-peoples",
   "metadata": {},
   "outputs": [],
   "source": [
    "validator.expect_column_values_to_be_in_type_list(\n",
    "    column=\"created\",\n",
    "    type_list=[\n",
    "        \"DATE\",\n",
    "        \"TIME\",\n",
    "        \"DATETIME\",\n",
    "        \"DATETIME2\",\n",
    "        \"DATETIME64\",\n",
    "        \"SMALLDATETIME\",\n",
    "        \"DATETIMEOFFSET\",\n",
    "        \"TIMESTAMP\",\n",
    "        \"Timestamp\",\n",
    "        \"TimestampType\",\n",
    "        \"DateType\",\n",
    "        \"datetime64\",\n",
    "        \"datetime64[ns]\",\n",
    "        \"timedelta[ns]\",\n",
    "        \"<M8[ns]\",\n",
    "    ],\n",
    ")"
   ]
  },
  {
   "cell_type": "markdown",
   "id": "gross-costs",
   "metadata": {},
   "source": [
    "#### `_batched_at`"
   ]
  },
  {
   "cell_type": "code",
   "execution_count": null,
   "id": "settled-tattoo",
   "metadata": {},
   "outputs": [],
   "source": [
    "validator.expect_column_values_to_not_be_null(column=\"_batched_at\")"
   ]
  },
  {
   "cell_type": "code",
   "execution_count": null,
   "id": "virgin-lawyer",
   "metadata": {},
   "outputs": [],
   "source": [
    "validator.expect_column_values_to_be_in_type_list(\n",
    "    column=\"_batched_at\",\n",
    "    type_list=[\n",
    "        \"DATE\",\n",
    "        \"TIME\",\n",
    "        \"DATETIME\",\n",
    "        \"DATETIME2\",\n",
    "        \"DATETIME64\",\n",
    "        \"SMALLDATETIME\",\n",
    "        \"DATETIMEOFFSET\",\n",
    "        \"TIMESTAMP\",\n",
    "        \"Timestamp\",\n",
    "        \"TimestampType\",\n",
    "        \"DateType\",\n",
    "        \"datetime64\",\n",
    "        \"datetime64[ns]\",\n",
    "        \"timedelta[ns]\",\n",
    "        \"<M8[ns]\",\n",
    "    ],\n",
    ")"
   ]
  },
  {
   "cell_type": "markdown",
   "id": "inside-mathematics",
   "metadata": {},
   "source": [
    "## Review & Save Your Expectations\n",
    "\n",
    "Let's save the expectation suite as a JSON file in the `great_expectations/expectations` directory of your project.\n",
    "\n",
    "Let's now rebuild your Data Docs, which helps you communicate about your data with both machines and humans."
   ]
  },
  {
   "cell_type": "code",
   "execution_count": null,
   "id": "cathedral-campbell",
   "metadata": {},
   "outputs": [],
   "source": [
    "print(validator.get_expectation_suite(discard_failed_expectations=False))\n",
    "validator.save_expectation_suite(discard_failed_expectations=False)\n",
    "\n",
    "checkpoint_config = {\n",
    "    \"class_name\": \"SimpleCheckpoint\",\n",
    "    \"validations\": [\n",
    "        {\n",
    "            \"batch_request\": batch_request,\n",
    "            \"expectation_suite_name\": expectation_suite_name\n",
    "        }\n",
    "    ]\n",
    "}\n",
    "checkpoint = SimpleCheckpoint(\n",
    "    f\"_tmp_checkpoint_{expectation_suite_name}\",\n",
    "    context,\n",
    "    **checkpoint_config\n",
    ")\n",
    "checkpoint_result = checkpoint.run()\n",
    "\n",
    "context.build_data_docs()\n",
    "\n",
    "validation_result_identifier = checkpoint_result.list_validation_result_identifiers()[0]\n",
    "context.open_data_docs(resource_identifier=validation_result_identifier)"
   ]
  }
 ],
 "metadata": {
  "kernelspec": {
   "display_name": "Python 3",
   "language": "python",
   "name": "python3"
  },
  "language_info": {
   "codemirror_mode": {
    "name": "ipython",
    "version": 3
   },
   "file_extension": ".py",
   "mimetype": "text/x-python",
   "name": "python",
   "nbconvert_exporter": "python",
   "pygments_lexer": "ipython3",
   "version": "3.9.2"
  }
 },
 "nbformat": 4,
 "nbformat_minor": 5
}
