{
 "cells": [
  {
   "cell_type": "markdown",
   "id": "wicked-postcard",
   "metadata": {},
   "source": [
    "# Create a new sqlalchemy Datasource\n",
    "Use this notebook to configure a new sqlalchemy Datasource and add it to your project."
   ]
  },
  {
   "cell_type": "code",
   "execution_count": null,
   "id": "graphic-ending",
   "metadata": {},
   "outputs": [],
   "source": [
    "import great_expectations as ge\n",
    "from great_expectations.cli.datasource import sanitize_yaml_and_save_datasource, check_if_datasource_name_exists\n",
    "context = ge.get_context()"
   ]
  },
  {
   "cell_type": "markdown",
   "id": "chief-package",
   "metadata": {},
   "source": [
    "## Customize Your Datasource Configuration\n",
    "\n",
    "**If you are new to Great Expectations Datasources,** you should check out our [how-to documentation](https://docs.greatexpectations.io/docs/guides/connecting_to_your_data/connect_to_data_overview)\n",
    "\n",
    "**My configuration is not so simple - are there more advanced options?**\n",
    "Glad you asked! Datasources are versatile. Please see our [How To Guides](https://docs.greatexpectations.io/docs/guides/connecting_to_your_data/connect_to_data_overview)!\n",
    "\n",
    "Give your datasource a unique name:"
   ]
  },
  {
   "cell_type": "code",
   "execution_count": null,
   "id": "graduate-script",
   "metadata": {},
   "outputs": [],
   "source": [
    "datasource_name = \"my_datasource\""
   ]
  },
  {
   "cell_type": "markdown",
   "id": "chinese-raising",
   "metadata": {},
   "source": [
    "### For SQL based Datasources:\n",
    "\n",
    "Here we are creating an example configuration based on the database backend you specified in the CLI.  The configuration contains an **InferredAssetSqlDataConnector**, which will add a Data Asset for each table in the database, and a **RuntimeDataConnector** which can accept SQL queries. This is just an example, and you may customize this as you wish!\n",
    "\n",
    "Also, if you would like to learn more about the **DataConnectors** used in this configuration, please see our docs on [InferredAssetDataConnectors](https://docs.greatexpectations.io/docs/guides/connecting_to_your_data/how_to_configure_an_inferredassetdataconnector) and [RuntimeDataConnectors](https://docs.greatexpectations.io/docs/guides/connecting_to_your_data/how_to_configure_a_runtimedataconnector).\n",
    "\n",
    "Credentials will not be saved until you run the last cell. The credentials will be saved in `uncommitted/config_variables.yml` which should not be added to source control."
   ]
  },
  {
   "cell_type": "code",
   "execution_count": null,
   "id": "expressed-mentor",
   "metadata": {},
   "outputs": [],
   "source": [
    "host = \"YOUR_HOST\"\n",
    "port = \"5432\"\n",
    "username = \"YOUR_USERNAME\"\n",
    "password = \"YOUR_PASSWORD\"\n",
    "database = \"YOUR_DATABASE\"\n",
    "schema_name = \"YOUR_SCHEMA\""
   ]
  },
  {
   "cell_type": "code",
   "execution_count": null,
   "id": "musical-prairie",
   "metadata": {},
   "outputs": [],
   "source": [
    "example_yaml = f\"\"\"\n",
    "name: {datasource_name}\n",
    "class_name: Datasource\n",
    "execution_engine:\n",
    "  class_name: SqlAlchemyExecutionEngine\n",
    "  credentials:\n",
    "    host: {host}\n",
    "    port: '{port}'\n",
    "    username: {username}\n",
    "    password: {password}\n",
    "    database: {database}\n",
    "    schema_name: {schema_name}\n",
    "    drivername: postgresql\n",
    "data_connectors:\n",
    "  default_runtime_data_connector_name:\n",
    "    class_name: RuntimeDataConnector\n",
    "    batch_identifiers:\n",
    "      - default_identifier_name\n",
    "  default_inferred_data_connector_name:\n",
    "    class_name: InferredAssetSqlDataConnector\n",
    "    include_schema_name: True\"\"\"\n",
    "print(example_yaml)"
   ]
  },
  {
   "cell_type": "markdown",
   "id": "important-flight",
   "metadata": {},
   "source": [
    "# Test Your Datasource Configuration\n",
    "Here we will test your Datasource configuration to make sure it is valid.\n",
    "\n",
    "This `test_yaml_config()` function is meant to enable fast dev loops. **If your\n",
    "configuration is correct, this cell will show you some snippets of the data\n",
    "assets in the data source.** You can continually edit your Datasource config\n",
    "yaml and re-run the cell to check until the new config is valid.\n",
    "\n",
    "If you instead wish to use python instead of yaml to configure your Datasource,\n",
    "you can use `context.add_datasource()` and specify all the required parameters."
   ]
  },
  {
   "cell_type": "code",
   "execution_count": null,
   "id": "antique-mills",
   "metadata": {},
   "outputs": [],
   "source": [
    "context.test_yaml_config(yaml_config=example_yaml)"
   ]
  },
  {
   "cell_type": "markdown",
   "id": "unlimited-wellington",
   "metadata": {},
   "source": [
    "## Save Your Datasource Configuration\n",
    "Here we will save your Datasource in your Data Context once you are satisfied with the configuration. Note that `overwrite_existing` defaults to False, but you may change it to True if you wish to overwrite. Please note that if you wish to include comments you must add them directly to your `great_expectations.yml`."
   ]
  },
  {
   "cell_type": "code",
   "execution_count": null,
   "id": "communist-bracket",
   "metadata": {},
   "outputs": [],
   "source": [
    "sanitize_yaml_and_save_datasource(context, example_yaml, overwrite_existing=False)\n",
    "context.list_datasources()"
   ]
  },
  {
   "cell_type": "markdown",
   "id": "promotional-directive",
   "metadata": {},
   "source": [
    "Now you can close this notebook and delete it!"
   ]
  }
 ],
 "metadata": {},
 "nbformat": 4,
 "nbformat_minor": 5
}
