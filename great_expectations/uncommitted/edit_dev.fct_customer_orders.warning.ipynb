{
 "cells": [
  {
   "cell_type": "markdown",
   "id": "protected-satisfaction",
   "metadata": {},
   "source": [
    "# Edit Your Expectation Suite\n",
    "Use this notebook to recreate and modify your expectation suite:\n",
    "\n",
    "**Expectation Suite Name**: `dev.fct_customer_orders.warning`\n"
   ]
  },
  {
   "cell_type": "code",
   "execution_count": null,
   "id": "stuffed-click",
   "metadata": {},
   "outputs": [],
   "source": [
    "import datetime\n",
    "\n",
    "import pandas as pd\n",
    "\n",
    "import great_expectations as ge\n",
    "import great_expectations.jupyter_ux\n",
    "from great_expectations.core.batch import BatchRequest\n",
    "from great_expectations.checkpoint import SimpleCheckpoint\n",
    "from great_expectations.exceptions import DataContextError\n",
    "\n",
    "context = ge.data_context.DataContext()\n",
    "\n",
    "# Note that if you modify this batch request, you may save the new version as a .json file\n",
    "#  to pass in later via the --batch-request option\n",
    "batch_request = {\n",
    "    \"datasource_name\": \"jaffle_shop\",\n",
    "    \"data_connector_name\": \"default_inferred_data_connector_name\",\n",
    "    \"data_asset_name\": \"dev.fct_customer_orders\",\n",
    "    \"limit\": 1000,\n",
    "}\n",
    "\n",
    "\n",
    "# Feel free to change the name of your suite here. Renaming this will not remove the other one.\n",
    "expectation_suite_name = \"dev.fct_customer_orders.warning\"\n",
    "try:\n",
    "    suite = context.get_expectation_suite(expectation_suite_name=expectation_suite_name)\n",
    "    print(\n",
    "        f'Loaded ExpectationSuite \"{suite.expectation_suite_name}\" containing {len(suite.expectations)} expectations.'\n",
    "    )\n",
    "except DataContextError:\n",
    "    suite = context.create_expectation_suite(\n",
    "        expectation_suite_name=expectation_suite_name\n",
    "    )\n",
    "    print(f'Created ExpectationSuite \"{suite.expectation_suite_name}\".')\n",
    "\n",
    "\n",
    "validator = context.get_validator(\n",
    "    batch_request=BatchRequest(**batch_request),\n",
    "    expectation_suite_name=expectation_suite_name,\n",
    ")\n",
    "column_names = [f'\"{column_name}\"' for column_name in validator.columns()]\n",
    "print(f\"Columns: {', '.join(column_names)}.\")\n",
    "validator.head(n_rows=5, fetch_all=False)"
   ]
  },
  {
   "cell_type": "markdown",
   "id": "official-silicon",
   "metadata": {},
   "source": [
    "## Create & Edit Expectations\n",
    "\n",
    "\n",
    "Add expectations by calling specific expectation methods on the `validator` object. They all begin with `.expect_` which makes autocompleting easy using tab.\n",
    "\n",
    "Because you selected interactive mode, you are now creating or editing an Expectation Suite with validator feedback from the sample batch of data that you specified (see `batch_request`).\n",
    "\n",
    "Note that if you select manual mode you may still create or edit an Expectation Suite directly, without feedback from the `validator`. See our documentation for more info and examples: [How to create a new Expectation Suite without a sample batch](https://docs.greatexpectations.io/docs/guides/expectations/how_to_create_and_edit_expectations_based_on_domain_knowledge_without_inspecting_data_directly).\n",
    "\n",
    "\n",
    "\n",
    "You can see all the available expectations in the **[expectation gallery](https://greatexpectations.io/expectations)**."
   ]
  },
  {
   "cell_type": "markdown",
   "id": "cosmetic-influence",
   "metadata": {},
   "source": [
    "### Table Expectation(s)"
   ]
  },
  {
   "cell_type": "code",
   "execution_count": null,
   "id": "loaded-raising",
   "metadata": {},
   "outputs": [],
   "source": [
    "validator.expect_table_columns_to_match_ordered_list(\n",
    "    column_list=[\n",
    "        \"order_id\",\n",
    "        \"customer_id\",\n",
    "        \"order_placed_at\",\n",
    "        \"order_status\",\n",
    "        \"total_amount_paid\",\n",
    "        \"payment_finalized_date\",\n",
    "        \"customer_first_name\",\n",
    "        \"customer_last_name\",\n",
    "        \"transaction_seq\",\n",
    "        \"customer_sales_seq\",\n",
    "        \"nvsr\",\n",
    "        \"customer_lifetime_value\",\n",
    "        \"fdos\",\n",
    "    ]\n",
    ")"
   ]
  },
  {
   "cell_type": "code",
   "execution_count": null,
   "id": "narrow-discussion",
   "metadata": {},
   "outputs": [],
   "source": [
    "validator.expect_table_row_count_to_be_between(max_value=99, min_value=99)"
   ]
  },
  {
   "cell_type": "markdown",
   "id": "wanted-arnold",
   "metadata": {},
   "source": [
    "### Column Expectation(s)"
   ]
  },
  {
   "cell_type": "markdown",
   "id": "cognitive-violin",
   "metadata": {},
   "source": [
    "#### `order_id`"
   ]
  },
  {
   "cell_type": "code",
   "execution_count": null,
   "id": "tribal-northeast",
   "metadata": {},
   "outputs": [],
   "source": [
    "validator.expect_column_min_to_be_between(column=\"order_id\", max_value=1, min_value=1)"
   ]
  },
  {
   "cell_type": "code",
   "execution_count": null,
   "id": "broad-forwarding",
   "metadata": {},
   "outputs": [],
   "source": [
    "validator.expect_column_max_to_be_between(column=\"order_id\", max_value=99, min_value=99)"
   ]
  },
  {
   "cell_type": "code",
   "execution_count": null,
   "id": "ethical-billion",
   "metadata": {},
   "outputs": [],
   "source": [
    "validator.expect_column_mean_to_be_between(\n",
    "    column=\"order_id\", max_value=50.0, min_value=50.0\n",
    ")"
   ]
  },
  {
   "cell_type": "code",
   "execution_count": null,
   "id": "persistent-experience",
   "metadata": {},
   "outputs": [],
   "source": [
    "validator.expect_column_median_to_be_between(\n",
    "    column=\"order_id\", max_value=50, min_value=50\n",
    ")"
   ]
  },
  {
   "cell_type": "code",
   "execution_count": null,
   "id": "selective-invalid",
   "metadata": {},
   "outputs": [],
   "source": [
    "validator.expect_column_quantile_values_to_be_between(\n",
    "    column=\"order_id\",\n",
    "    allow_relative_error=True,\n",
    "    quantile_ranges={\n",
    "        \"quantiles\": [0.05, 0.25, 0.5, 0.75, 0.95],\n",
    "        \"value_ranges\": [[5, 5], [25, 25], [50, 50], [75, 75], [95, 95]],\n",
    "    },\n",
    ")"
   ]
  },
  {
   "cell_type": "code",
   "execution_count": null,
   "id": "sexual-accounting",
   "metadata": {},
   "outputs": [],
   "source": [
    "validator.expect_column_values_to_not_be_null(column=\"order_id\")"
   ]
  },
  {
   "cell_type": "code",
   "execution_count": null,
   "id": "continuing-portugal",
   "metadata": {},
   "outputs": [],
   "source": [
    "validator.expect_column_proportion_of_unique_values_to_be_between(\n",
    "    column=\"order_id\", max_value=1.0, min_value=1.0\n",
    ")"
   ]
  },
  {
   "cell_type": "code",
   "execution_count": null,
   "id": "figured-nickname",
   "metadata": {},
   "outputs": [],
   "source": [
    "validator.expect_column_values_to_be_in_type_list(\n",
    "    column=\"order_id\",\n",
    "    type_list=[\n",
    "        \"INTEGER\",\n",
    "        \"integer\",\n",
    "        \"int\",\n",
    "        \"int_\",\n",
    "        \"int8\",\n",
    "        \"int16\",\n",
    "        \"int32\",\n",
    "        \"int64\",\n",
    "        \"uint8\",\n",
    "        \"uint16\",\n",
    "        \"uint32\",\n",
    "        \"uint64\",\n",
    "        \"Int8Dtype\",\n",
    "        \"Int16Dtype\",\n",
    "        \"Int32Dtype\",\n",
    "        \"Int64Dtype\",\n",
    "        \"UInt8Dtype\",\n",
    "        \"UInt16Dtype\",\n",
    "        \"UInt32Dtype\",\n",
    "        \"UInt64Dtype\",\n",
    "        \"INT\",\n",
    "        \"INTEGER\",\n",
    "        \"INT64\",\n",
    "        \"TINYINT\",\n",
    "        \"BYTEINT\",\n",
    "        \"SMALLINT\",\n",
    "        \"BIGINT\",\n",
    "        \"IntegerType\",\n",
    "        \"LongType\",\n",
    "    ],\n",
    ")"
   ]
  },
  {
   "cell_type": "markdown",
   "id": "facial-crossing",
   "metadata": {},
   "source": [
    "#### `customer_id`"
   ]
  },
  {
   "cell_type": "code",
   "execution_count": null,
   "id": "prompt-visibility",
   "metadata": {},
   "outputs": [],
   "source": [
    "validator.expect_column_min_to_be_between(\n",
    "    column=\"customer_id\", max_value=1, min_value=1\n",
    ")"
   ]
  },
  {
   "cell_type": "code",
   "execution_count": null,
   "id": "middle-smith",
   "metadata": {},
   "outputs": [],
   "source": [
    "validator.expect_column_max_to_be_between(\n",
    "    column=\"customer_id\", max_value=99, min_value=99\n",
    ")"
   ]
  },
  {
   "cell_type": "code",
   "execution_count": null,
   "id": "returning-commercial",
   "metadata": {},
   "outputs": [],
   "source": [
    "validator.expect_column_mean_to_be_between(\n",
    "    column=\"customer_id\", max_value=48.25252525252525, min_value=48.25252525252525\n",
    ")"
   ]
  },
  {
   "cell_type": "code",
   "execution_count": null,
   "id": "critical-geneva",
   "metadata": {},
   "outputs": [],
   "source": [
    "validator.expect_column_median_to_be_between(\n",
    "    column=\"customer_id\", max_value=50, min_value=50\n",
    ")"
   ]
  },
  {
   "cell_type": "code",
   "execution_count": null,
   "id": "terminal-thriller",
   "metadata": {},
   "outputs": [],
   "source": [
    "validator.expect_column_quantile_values_to_be_between(\n",
    "    column=\"customer_id\",\n",
    "    allow_relative_error=True,\n",
    "    quantile_ranges={\n",
    "        \"quantiles\": [0.05, 0.25, 0.5, 0.75, 0.95],\n",
    "        \"value_ranges\": [[3, 3], [26, 26], [50, 50], [70, 70], [93, 93]],\n",
    "    },\n",
    ")"
   ]
  },
  {
   "cell_type": "code",
   "execution_count": null,
   "id": "revolutionary-contributor",
   "metadata": {},
   "outputs": [],
   "source": [
    "validator.expect_column_values_to_not_be_null(column=\"customer_id\")"
   ]
  },
  {
   "cell_type": "code",
   "execution_count": null,
   "id": "boring-territory",
   "metadata": {},
   "outputs": [],
   "source": [
    "validator.expect_column_proportion_of_unique_values_to_be_between(\n",
    "    column=\"customer_id\", max_value=0.6262626262626263, min_value=0.6262626262626263\n",
    ")"
   ]
  },
  {
   "cell_type": "code",
   "execution_count": null,
   "id": "detailed-shelter",
   "metadata": {},
   "outputs": [],
   "source": [
    "validator.expect_column_values_to_be_in_type_list(\n",
    "    column=\"customer_id\",\n",
    "    type_list=[\n",
    "        \"INTEGER\",\n",
    "        \"integer\",\n",
    "        \"int\",\n",
    "        \"int_\",\n",
    "        \"int8\",\n",
    "        \"int16\",\n",
    "        \"int32\",\n",
    "        \"int64\",\n",
    "        \"uint8\",\n",
    "        \"uint16\",\n",
    "        \"uint32\",\n",
    "        \"uint64\",\n",
    "        \"Int8Dtype\",\n",
    "        \"Int16Dtype\",\n",
    "        \"Int32Dtype\",\n",
    "        \"Int64Dtype\",\n",
    "        \"UInt8Dtype\",\n",
    "        \"UInt16Dtype\",\n",
    "        \"UInt32Dtype\",\n",
    "        \"UInt64Dtype\",\n",
    "        \"INT\",\n",
    "        \"INTEGER\",\n",
    "        \"INT64\",\n",
    "        \"TINYINT\",\n",
    "        \"BYTEINT\",\n",
    "        \"SMALLINT\",\n",
    "        \"BIGINT\",\n",
    "        \"IntegerType\",\n",
    "        \"LongType\",\n",
    "    ],\n",
    ")"
   ]
  },
  {
   "cell_type": "markdown",
   "id": "headed-jefferson",
   "metadata": {},
   "source": [
    "#### `order_placed_at`"
   ]
  },
  {
   "cell_type": "code",
   "execution_count": null,
   "id": "prepared-margin",
   "metadata": {},
   "outputs": [],
   "source": [
    "validator.expect_column_values_to_be_between(\n",
    "    column=\"order_placed_at\",\n",
    "    max_value=\"2018-04-09 00:00:00\",\n",
    "    min_value=\"2018-01-01 00:00:00\",\n",
    "    parse_strings_as_datetimes=False,\n",
    ")"
   ]
  },
  {
   "cell_type": "code",
   "execution_count": null,
   "id": "exposed-confusion",
   "metadata": {},
   "outputs": [],
   "source": [
    "validator.expect_column_values_to_not_be_null(column=\"order_placed_at\")"
   ]
  },
  {
   "cell_type": "code",
   "execution_count": null,
   "id": "animal-directory",
   "metadata": {},
   "outputs": [],
   "source": [
    "validator.expect_column_proportion_of_unique_values_to_be_between(\n",
    "    column=\"order_placed_at\", max_value=0.696969696969697, min_value=0.696969696969697\n",
    ")"
   ]
  },
  {
   "cell_type": "code",
   "execution_count": null,
   "id": "hired-english",
   "metadata": {},
   "outputs": [],
   "source": [
    "validator.expect_column_values_to_be_in_type_list(\n",
    "    column=\"order_placed_at\",\n",
    "    type_list=[\n",
    "        \"DATE\",\n",
    "        \"TIME\",\n",
    "        \"DATETIME\",\n",
    "        \"DATETIME2\",\n",
    "        \"DATETIME64\",\n",
    "        \"SMALLDATETIME\",\n",
    "        \"DATETIMEOFFSET\",\n",
    "        \"TIMESTAMP\",\n",
    "        \"Timestamp\",\n",
    "        \"TimestampType\",\n",
    "        \"DateType\",\n",
    "        \"datetime64\",\n",
    "        \"datetime64[ns]\",\n",
    "        \"timedelta[ns]\",\n",
    "        \"<M8[ns]\",\n",
    "    ],\n",
    ")"
   ]
  },
  {
   "cell_type": "markdown",
   "id": "metric-expression",
   "metadata": {},
   "source": [
    "#### `order_status`"
   ]
  },
  {
   "cell_type": "code",
   "execution_count": null,
   "id": "developed-tunnel",
   "metadata": {},
   "outputs": [],
   "source": [
    "validator.expect_column_values_to_be_in_set(\n",
    "    column=\"order_status\",\n",
    "    value_set=[\"completed\", \"placed\", \"return_pending\", \"returned\", \"shipped\"],\n",
    ")"
   ]
  },
  {
   "cell_type": "code",
   "execution_count": null,
   "id": "attempted-cowboy",
   "metadata": {},
   "outputs": [],
   "source": [
    "validator.expect_column_values_to_not_be_null(column=\"order_status\")"
   ]
  },
  {
   "cell_type": "code",
   "execution_count": null,
   "id": "bigger-weather",
   "metadata": {},
   "outputs": [],
   "source": [
    "validator.expect_column_proportion_of_unique_values_to_be_between(\n",
    "    column=\"order_status\",\n",
    "    max_value=0.050505050505050504,\n",
    "    min_value=0.050505050505050504,\n",
    ")"
   ]
  },
  {
   "cell_type": "code",
   "execution_count": null,
   "id": "missing-carpet",
   "metadata": {},
   "outputs": [],
   "source": [
    "validator.expect_column_values_to_be_in_type_list(\n",
    "    column=\"order_status\",\n",
    "    type_list=[\n",
    "        \"CHAR\",\n",
    "        \"NCHAR\",\n",
    "        \"VARCHAR\",\n",
    "        \"NVARCHAR\",\n",
    "        \"TEXT\",\n",
    "        \"NTEXT\",\n",
    "        \"STRING\",\n",
    "        \"StringType\",\n",
    "        \"string\",\n",
    "        \"str\",\n",
    "        \"object\",\n",
    "        \"dtype('O')\",\n",
    "    ],\n",
    ")"
   ]
  },
  {
   "cell_type": "markdown",
   "id": "advanced-figure",
   "metadata": {},
   "source": [
    "#### `total_amount_paid`"
   ]
  },
  {
   "cell_type": "code",
   "execution_count": null,
   "id": "incorrect-reproduction",
   "metadata": {},
   "outputs": [],
   "source": [
    "validator.expect_column_min_to_be_between(\n",
    "    column=\"total_amount_paid\", max_value=0.0, min_value=0.0\n",
    ")"
   ]
  },
  {
   "cell_type": "code",
   "execution_count": null,
   "id": "informal-winner",
   "metadata": {},
   "outputs": [],
   "source": [
    "validator.expect_column_max_to_be_between(\n",
    "    column=\"total_amount_paid\", max_value=58.0, min_value=58.0\n",
    ")"
   ]
  },
  {
   "cell_type": "code",
   "execution_count": null,
   "id": "gothic-organ",
   "metadata": {},
   "outputs": [],
   "source": [
    "validator.expect_column_mean_to_be_between(\n",
    "    column=\"total_amount_paid\", max_value=16.88888888888889, min_value=16.88888888888889\n",
    ")"
   ]
  },
  {
   "cell_type": "code",
   "execution_count": null,
   "id": "distant-bermuda",
   "metadata": {},
   "outputs": [],
   "source": [
    "validator.expect_column_quantile_values_to_be_between(\n",
    "    column=\"total_amount_paid\",\n",
    "    allow_relative_error=True,\n",
    "    quantile_ranges={\n",
    "        \"quantiles\": [0.05, 0.25, 0.5, 0.75, 0.95],\n",
    "        \"value_ranges\": [\n",
    "            [2.0, 2.0],\n",
    "            [8.0, 8.0],\n",
    "            [17.0, 17.0],\n",
    "            [24.0, 24.0],\n",
    "            [30.0, 30.0],\n",
    "        ],\n",
    "    },\n",
    ")"
   ]
  },
  {
   "cell_type": "code",
   "execution_count": null,
   "id": "extreme-salvation",
   "metadata": {},
   "outputs": [],
   "source": [
    "validator.expect_column_values_to_be_in_set(\n",
    "    column=\"total_amount_paid\",\n",
    "    value_set=[\n",
    "        0.0,\n",
    "        1.0,\n",
    "        2.0,\n",
    "        3.0,\n",
    "        4.0,\n",
    "        5.0,\n",
    "        6.0,\n",
    "        7.0,\n",
    "        8.0,\n",
    "        9.0,\n",
    "        10.0,\n",
    "        11.0,\n",
    "        12.0,\n",
    "        13.0,\n",
    "        14.0,\n",
    "        15.0,\n",
    "        16.0,\n",
    "        17.0,\n",
    "        18.0,\n",
    "        19.0,\n",
    "        20.0,\n",
    "        22.0,\n",
    "        23.0,\n",
    "        24.0,\n",
    "        25.0,\n",
    "        26.0,\n",
    "        27.0,\n",
    "        28.0,\n",
    "        29.0,\n",
    "        30.0,\n",
    "        56.0,\n",
    "        58.0,\n",
    "    ],\n",
    ")"
   ]
  },
  {
   "cell_type": "code",
   "execution_count": null,
   "id": "foster-facility",
   "metadata": {},
   "outputs": [],
   "source": [
    "validator.expect_column_values_to_not_be_null(column=\"total_amount_paid\")"
   ]
  },
  {
   "cell_type": "code",
   "execution_count": null,
   "id": "known-future",
   "metadata": {},
   "outputs": [],
   "source": [
    "validator.expect_column_proportion_of_unique_values_to_be_between(\n",
    "    column=\"total_amount_paid\",\n",
    "    max_value=0.32323232323232326,\n",
    "    min_value=0.32323232323232326,\n",
    ")"
   ]
  },
  {
   "cell_type": "code",
   "execution_count": null,
   "id": "sublime-romance",
   "metadata": {},
   "outputs": [],
   "source": [
    "validator.expect_column_values_to_be_in_type_list(\n",
    "    column=\"total_amount_paid\",\n",
    "    type_list=[\n",
    "        \"FLOAT\",\n",
    "        \"FLOAT4\",\n",
    "        \"FLOAT8\",\n",
    "        \"FLOAT64\",\n",
    "        \"DOUBLE\",\n",
    "        \"DOUBLE_PRECISION\",\n",
    "        \"NUMERIC\",\n",
    "        \"FloatType\",\n",
    "        \"DoubleType\",\n",
    "        \"float\",\n",
    "        \"float_\",\n",
    "        \"float16\",\n",
    "        \"float32\",\n",
    "        \"float64\",\n",
    "        \"number\",\n",
    "        \"DECIMAL\",\n",
    "        \"REAL\",\n",
    "    ],\n",
    ")"
   ]
  },
  {
   "cell_type": "markdown",
   "id": "entitled-courage",
   "metadata": {},
   "source": [
    "#### `payment_finalized_date`"
   ]
  },
  {
   "cell_type": "code",
   "execution_count": null,
   "id": "center-shirt",
   "metadata": {},
   "outputs": [],
   "source": [
    "validator.expect_column_values_to_be_between(\n",
    "    column=\"payment_finalized_date\",\n",
    "    max_value=\"2018-04-09 00:00:00\",\n",
    "    min_value=\"2018-01-01 00:00:00\",\n",
    "    parse_strings_as_datetimes=False,\n",
    ")"
   ]
  },
  {
   "cell_type": "code",
   "execution_count": null,
   "id": "chief-liberia",
   "metadata": {},
   "outputs": [],
   "source": [
    "validator.expect_column_values_to_not_be_null(column=\"payment_finalized_date\")"
   ]
  },
  {
   "cell_type": "code",
   "execution_count": null,
   "id": "opposite-minority",
   "metadata": {},
   "outputs": [],
   "source": [
    "validator.expect_column_proportion_of_unique_values_to_be_between(\n",
    "    column=\"payment_finalized_date\",\n",
    "    max_value=0.696969696969697,\n",
    "    min_value=0.696969696969697,\n",
    ")"
   ]
  },
  {
   "cell_type": "code",
   "execution_count": null,
   "id": "heavy-cookie",
   "metadata": {},
   "outputs": [],
   "source": [
    "validator.expect_column_values_to_be_in_type_list(\n",
    "    column=\"payment_finalized_date\",\n",
    "    type_list=[\n",
    "        \"DATE\",\n",
    "        \"TIME\",\n",
    "        \"DATETIME\",\n",
    "        \"DATETIME2\",\n",
    "        \"DATETIME64\",\n",
    "        \"SMALLDATETIME\",\n",
    "        \"DATETIMEOFFSET\",\n",
    "        \"TIMESTAMP\",\n",
    "        \"Timestamp\",\n",
    "        \"TimestampType\",\n",
    "        \"DateType\",\n",
    "        \"datetime64\",\n",
    "        \"datetime64[ns]\",\n",
    "        \"timedelta[ns]\",\n",
    "        \"<M8[ns]\",\n",
    "    ],\n",
    ")"
   ]
  },
  {
   "cell_type": "markdown",
   "id": "difficult-visitor",
   "metadata": {},
   "source": [
    "#### `customer_first_name`"
   ]
  },
  {
   "cell_type": "code",
   "execution_count": null,
   "id": "higher-america",
   "metadata": {},
   "outputs": [],
   "source": [
    "validator.expect_column_values_to_be_in_set(\n",
    "    column=\"customer_first_name\",\n",
    "    value_set=[\n",
    "        \"Aaron\",\n",
    "        \"Adam\",\n",
    "        \"Amanda\",\n",
    "        \"Amy\",\n",
    "        \"Anna\",\n",
    "        \"Anne\",\n",
    "        \"Barbara\",\n",
    "        \"Benjamin\",\n",
    "        \"Billy\",\n",
    "        \"Christina\",\n",
    "        \"David\",\n",
    "        \"Dennis\",\n",
    "        \"Diana\",\n",
    "        \"Edward\",\n",
    "        \"Frances\",\n",
    "        \"Frank\",\n",
    "        \"Fred\",\n",
    "        \"Gerald\",\n",
    "        \"Gloria\",\n",
    "        \"Gregory\",\n",
    "        \"Harold\",\n",
    "        \"Helen\",\n",
    "        \"Howard\",\n",
    "        \"Jack\",\n",
    "        \"Jane\",\n",
    "        \"Janet\",\n",
    "        \"Jason\",\n",
    "        \"Jennifer\",\n",
    "        \"Jesse\",\n",
    "        \"Johnny\",\n",
    "        \"Katherine\",\n",
    "        \"Kathleen\",\n",
    "        \"Laura\",\n",
    "        \"Lisa\",\n",
    "        \"Louise\",\n",
    "        \"Margaret\",\n",
    "        \"Maria\",\n",
    "        \"Marie\",\n",
    "        \"Martin\",\n",
    "        \"Mary\",\n",
    "        \"Michael\",\n",
    "        \"Norma\",\n",
    "        \"Paul\",\n",
    "        \"Phillip\",\n",
    "        \"Rose\",\n",
    "        \"Sara\",\n",
    "        \"Sarah\",\n",
    "        \"Sean\",\n",
    "        \"Shawn\",\n",
    "        \"Theresa\",\n",
    "        \"Thomas\",\n",
    "        \"Todd\",\n",
    "        \"Victor\",\n",
    "        \"Virginia\",\n",
    "        \"Willie\",\n",
    "    ],\n",
    ")"
   ]
  },
  {
   "cell_type": "code",
   "execution_count": null,
   "id": "surgical-folder",
   "metadata": {},
   "outputs": [],
   "source": [
    "validator.expect_column_values_to_not_be_null(column=\"customer_first_name\")"
   ]
  },
  {
   "cell_type": "code",
   "execution_count": null,
   "id": "front-header",
   "metadata": {},
   "outputs": [],
   "source": [
    "validator.expect_column_proportion_of_unique_values_to_be_between(\n",
    "    column=\"customer_first_name\",\n",
    "    max_value=0.5555555555555556,\n",
    "    min_value=0.5555555555555556,\n",
    ")"
   ]
  },
  {
   "cell_type": "code",
   "execution_count": null,
   "id": "contained-manor",
   "metadata": {},
   "outputs": [],
   "source": [
    "validator.expect_column_values_to_be_in_type_list(\n",
    "    column=\"customer_first_name\",\n",
    "    type_list=[\n",
    "        \"CHAR\",\n",
    "        \"NCHAR\",\n",
    "        \"VARCHAR\",\n",
    "        \"NVARCHAR\",\n",
    "        \"TEXT\",\n",
    "        \"NTEXT\",\n",
    "        \"STRING\",\n",
    "        \"StringType\",\n",
    "        \"string\",\n",
    "        \"str\",\n",
    "        \"object\",\n",
    "        \"dtype('O')\",\n",
    "    ],\n",
    ")"
   ]
  },
  {
   "cell_type": "markdown",
   "id": "equal-jackson",
   "metadata": {},
   "source": [
    "#### `customer_last_name`"
   ]
  },
  {
   "cell_type": "code",
   "execution_count": null,
   "id": "upper-niagara",
   "metadata": {},
   "outputs": [],
   "source": [
    "validator.expect_column_values_to_be_in_set(\n",
    "    column=\"customer_last_name\",\n",
    "    value_set=[\n",
    "        \"A.\",\n",
    "        \"B.\",\n",
    "        \"C.\",\n",
    "        \"D.\",\n",
    "        \"E.\",\n",
    "        \"F.\",\n",
    "        \"G.\",\n",
    "        \"H.\",\n",
    "        \"J.\",\n",
    "        \"K.\",\n",
    "        \"L.\",\n",
    "        \"M.\",\n",
    "        \"O.\",\n",
    "        \"P.\",\n",
    "        \"R.\",\n",
    "        \"S.\",\n",
    "        \"T.\",\n",
    "        \"W.\",\n",
    "    ],\n",
    ")"
   ]
  },
  {
   "cell_type": "code",
   "execution_count": null,
   "id": "final-evanescence",
   "metadata": {},
   "outputs": [],
   "source": [
    "validator.expect_column_values_to_not_be_null(column=\"customer_last_name\")"
   ]
  },
  {
   "cell_type": "code",
   "execution_count": null,
   "id": "light-theory",
   "metadata": {},
   "outputs": [],
   "source": [
    "validator.expect_column_proportion_of_unique_values_to_be_between(\n",
    "    column=\"customer_last_name\",\n",
    "    max_value=0.18181818181818182,\n",
    "    min_value=0.18181818181818182,\n",
    ")"
   ]
  },
  {
   "cell_type": "code",
   "execution_count": null,
   "id": "laden-replication",
   "metadata": {},
   "outputs": [],
   "source": [
    "validator.expect_column_values_to_be_in_type_list(\n",
    "    column=\"customer_last_name\",\n",
    "    type_list=[\n",
    "        \"CHAR\",\n",
    "        \"NCHAR\",\n",
    "        \"VARCHAR\",\n",
    "        \"NVARCHAR\",\n",
    "        \"TEXT\",\n",
    "        \"NTEXT\",\n",
    "        \"STRING\",\n",
    "        \"StringType\",\n",
    "        \"string\",\n",
    "        \"str\",\n",
    "        \"object\",\n",
    "        \"dtype('O')\",\n",
    "    ],\n",
    ")"
   ]
  },
  {
   "cell_type": "markdown",
   "id": "comic-giant",
   "metadata": {},
   "source": [
    "#### `customer_lifetime_value`"
   ]
  },
  {
   "cell_type": "code",
   "execution_count": null,
   "id": "protective-treatment",
   "metadata": {},
   "outputs": [],
   "source": [
    "validator.expect_column_min_to_be_between(\n",
    "    column=\"customer_lifetime_value\", max_value=1.0, min_value=1.0\n",
    ")"
   ]
  },
  {
   "cell_type": "code",
   "execution_count": null,
   "id": "nutritional-speaking",
   "metadata": {},
   "outputs": [],
   "source": [
    "validator.expect_column_max_to_be_between(\n",
    "    column=\"customer_lifetime_value\", max_value=99.0, min_value=99.0\n",
    ")"
   ]
  },
  {
   "cell_type": "code",
   "execution_count": null,
   "id": "coral-giant",
   "metadata": {},
   "outputs": [],
   "source": [
    "validator.expect_column_mean_to_be_between(\n",
    "    column=\"customer_lifetime_value\",\n",
    "    max_value=24.585858585858585,\n",
    "    min_value=24.585858585858585,\n",
    ")"
   ]
  },
  {
   "cell_type": "code",
   "execution_count": null,
   "id": "starting-puzzle",
   "metadata": {},
   "outputs": [],
   "source": [
    "validator.expect_column_quantile_values_to_be_between(\n",
    "    column=\"customer_lifetime_value\",\n",
    "    allow_relative_error=True,\n",
    "    quantile_ranges={\n",
    "        \"quantiles\": [0.05, 0.25, 0.5, 0.75, 0.95],\n",
    "        \"value_ranges\": [\n",
    "            [2.0, 2.0],\n",
    "            [12.0, 12.0],\n",
    "            [23.0, 23.0],\n",
    "            [30.0, 30.0],\n",
    "            [58.0, 58.0],\n",
    "        ],\n",
    "    },\n",
    ")"
   ]
  },
  {
   "cell_type": "code",
   "execution_count": null,
   "id": "international-height",
   "metadata": {},
   "outputs": [],
   "source": [
    "validator.expect_column_values_to_be_in_set(\n",
    "    column=\"customer_lifetime_value\",\n",
    "    value_set=[\n",
    "        1.0,\n",
    "        2.0,\n",
    "        3.0,\n",
    "        4.0,\n",
    "        6.0,\n",
    "        8.0,\n",
    "        9.0,\n",
    "        10.0,\n",
    "        11.0,\n",
    "        12.0,\n",
    "        13.0,\n",
    "        14.0,\n",
    "        15.0,\n",
    "        16.0,\n",
    "        17.0,\n",
    "        18.0,\n",
    "        19.0,\n",
    "        20.0,\n",
    "        22.0,\n",
    "        23.0,\n",
    "        24.0,\n",
    "        25.0,\n",
    "        26.0,\n",
    "        27.0,\n",
    "        28.0,\n",
    "        29.0,\n",
    "        30.0,\n",
    "        32.0,\n",
    "        33.0,\n",
    "        34.0,\n",
    "        36.0,\n",
    "        39.0,\n",
    "        43.0,\n",
    "        44.0,\n",
    "        45.0,\n",
    "        46.0,\n",
    "        47.0,\n",
    "        52.0,\n",
    "        54.0,\n",
    "        56.0,\n",
    "        57.0,\n",
    "        58.0,\n",
    "        64.0,\n",
    "        65.0,\n",
    "        73.0,\n",
    "        99.0,\n",
    "    ],\n",
    ")"
   ]
  },
  {
   "cell_type": "code",
   "execution_count": null,
   "id": "leading-bishop",
   "metadata": {},
   "outputs": [],
   "source": [
    "validator.expect_column_values_to_not_be_null(column=\"customer_lifetime_value\")"
   ]
  },
  {
   "cell_type": "code",
   "execution_count": null,
   "id": "seventh-insulin",
   "metadata": {},
   "outputs": [],
   "source": [
    "validator.expect_column_proportion_of_unique_values_to_be_between(\n",
    "    column=\"customer_lifetime_value\",\n",
    "    max_value=0.46464646464646464,\n",
    "    min_value=0.46464646464646464,\n",
    ")"
   ]
  },
  {
   "cell_type": "code",
   "execution_count": null,
   "id": "sound-texture",
   "metadata": {},
   "outputs": [],
   "source": [
    "validator.expect_column_values_to_be_in_type_list(\n",
    "    column=\"customer_lifetime_value\",\n",
    "    type_list=[\n",
    "        \"FLOAT\",\n",
    "        \"FLOAT4\",\n",
    "        \"FLOAT8\",\n",
    "        \"FLOAT64\",\n",
    "        \"DOUBLE\",\n",
    "        \"DOUBLE_PRECISION\",\n",
    "        \"NUMERIC\",\n",
    "        \"FloatType\",\n",
    "        \"DoubleType\",\n",
    "        \"float\",\n",
    "        \"float_\",\n",
    "        \"float16\",\n",
    "        \"float32\",\n",
    "        \"float64\",\n",
    "        \"number\",\n",
    "        \"DECIMAL\",\n",
    "        \"REAL\",\n",
    "    ],\n",
    ")"
   ]
  },
  {
   "cell_type": "markdown",
   "id": "sudden-civilian",
   "metadata": {},
   "source": [
    "## Review & Save Your Expectations\n",
    "\n",
    "Let's save the expectation suite as a JSON file in the `great_expectations/expectations` directory of your project.\n",
    "\n",
    "Let's now rebuild your Data Docs, which helps you communicate about your data with both machines and humans."
   ]
  },
  {
   "cell_type": "code",
   "execution_count": null,
   "id": "extensive-award",
   "metadata": {},
   "outputs": [],
   "source": [
    "print(validator.get_expectation_suite(discard_failed_expectations=False))\n",
    "validator.save_expectation_suite(discard_failed_expectations=False)\n",
    "\n",
    "checkpoint_config = {\n",
    "    \"class_name\": \"SimpleCheckpoint\",\n",
    "    \"validations\": [\n",
    "        {\n",
    "            \"batch_request\": batch_request,\n",
    "            \"expectation_suite_name\": expectation_suite_name\n",
    "        }\n",
    "    ]\n",
    "}\n",
    "checkpoint = SimpleCheckpoint(\n",
    "    f\"_tmp_checkpoint_{expectation_suite_name}\",\n",
    "    context,\n",
    "    **checkpoint_config\n",
    ")\n",
    "checkpoint_result = checkpoint.run()\n",
    "\n",
    "context.build_data_docs()\n",
    "\n",
    "validation_result_identifier = checkpoint_result.list_validation_result_identifiers()[0]\n",
    "context.open_data_docs(resource_identifier=validation_result_identifier)"
   ]
  }
 ],
 "metadata": {},
 "nbformat": 4,
 "nbformat_minor": 5
}
