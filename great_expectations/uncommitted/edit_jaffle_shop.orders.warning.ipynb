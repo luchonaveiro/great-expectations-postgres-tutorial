{
 "cells": [
  {
   "cell_type": "markdown",
   "id": "varying-season",
   "metadata": {},
   "source": [
    "# Edit Your Expectation Suite\n",
    "Use this notebook to recreate and modify your expectation suite:\n",
    "\n",
    "**Expectation Suite Name**: `jaffle_shop.orders.warning`\n"
   ]
  },
  {
   "cell_type": "code",
   "execution_count": null,
   "id": "serial-learning",
   "metadata": {},
   "outputs": [],
   "source": [
    "import datetime\n",
    "\n",
    "import pandas as pd\n",
    "\n",
    "import great_expectations as ge\n",
    "import great_expectations.jupyter_ux\n",
    "from great_expectations.core.expectation_configuration import ExpectationConfiguration\n",
    "from great_expectations.data_context.types.resource_identifiers import (\n",
    "    ExpectationSuiteIdentifier,\n",
    ")\n",
    "from great_expectations.exceptions import DataContextError\n",
    "\n",
    "context = ge.data_context.DataContext()\n",
    "\n",
    "\n",
    "# Feel free to change the name of your suite here. Renaming this will not remove the other one.\n",
    "expectation_suite_name = \"jaffle_shop.orders.warning\"\n",
    "try:\n",
    "    suite = context.get_expectation_suite(expectation_suite_name=expectation_suite_name)\n",
    "    print(\n",
    "        f'Loaded ExpectationSuite \"{suite.expectation_suite_name}\" containing {len(suite.expectations)} expectations.'\n",
    "    )\n",
    "except DataContextError:\n",
    "    suite = context.create_expectation_suite(\n",
    "        expectation_suite_name=expectation_suite_name\n",
    "    )\n",
    "    print(f'Created ExpectationSuite \"{suite.expectation_suite_name}\".')"
   ]
  },
  {
   "cell_type": "markdown",
   "id": "british-breakdown",
   "metadata": {},
   "source": [
    "## Create & Edit Expectations\n",
    "\n",
    "\n",
    "You are adding Expectation configurations to the suite. Since you selected manual mode, there is no sample batch of data and no validation happens during this process. See our documentation for more info and examples: **[How to create a new Expectation Suite without a sample batch](https://docs.greatexpectations.io/docs/guides/expectations/how_to_create_and_edit_expectations_based_on_domain_knowledge_without_inspecting_data_directly)**.\n",
    "\n",
    "Note that if you do use interactive mode you may specify a sample batch of data to use when creating your Expectation Suite. You can then use a `validator` to get immediate feedback on your Expectations against your specified sample batch.\n",
    "\n",
    "\n",
    "You can see all the available expectations in the **[expectation gallery](https://greatexpectations.io/expectations)**."
   ]
  },
  {
   "cell_type": "markdown",
   "id": "quarterly-canon",
   "metadata": {},
   "source": [
    "### Table Expectation(s)"
   ]
  },
  {
   "cell_type": "code",
   "execution_count": null,
   "id": "surprised-quantity",
   "metadata": {},
   "outputs": [],
   "source": [
    "expectation_configuration = ExpectationConfiguration(\n",
    "    **{\n",
    "        \"expectation_type\": \"expect_table_columns_to_match_ordered_list\",\n",
    "        \"meta\": {},\n",
    "        \"kwargs\": {\n",
    "            \"column_list\": [\"id\", \"user_id\", \"order_date\", \"status\", \"_etl_loaded_at\"]\n",
    "        },\n",
    "    }\n",
    ")\n",
    "suite.add_expectation(expectation_configuration=expectation_configuration)"
   ]
  },
  {
   "cell_type": "code",
   "execution_count": null,
   "id": "respiratory-brooklyn",
   "metadata": {},
   "outputs": [],
   "source": [
    "expectation_configuration = ExpectationConfiguration(\n",
    "    **{\n",
    "        \"expectation_type\": \"expect_table_row_count_to_be_between\",\n",
    "        \"meta\": {},\n",
    "        \"kwargs\": {\"max_value\": 99, \"min_value\": 99},\n",
    "    }\n",
    ")\n",
    "suite.add_expectation(expectation_configuration=expectation_configuration)"
   ]
  },
  {
   "cell_type": "markdown",
   "id": "magnetic-diploma",
   "metadata": {},
   "source": [
    "### Column Expectation(s)"
   ]
  },
  {
   "cell_type": "markdown",
   "id": "covered-peoples",
   "metadata": {},
   "source": [
    "#### `id`"
   ]
  },
  {
   "cell_type": "code",
   "execution_count": null,
   "id": "piano-sitting",
   "metadata": {},
   "outputs": [],
   "source": [
    "expectation_configuration = ExpectationConfiguration(\n",
    "    **{\n",
    "        \"expectation_type\": \"expect_column_min_to_be_between\",\n",
    "        \"meta\": {},\n",
    "        \"kwargs\": {\"column\": \"id\", \"max_value\": 1, \"min_value\": 1},\n",
    "    }\n",
    ")\n",
    "suite.add_expectation(expectation_configuration=expectation_configuration)"
   ]
  },
  {
   "cell_type": "code",
   "execution_count": null,
   "id": "caroline-greensboro",
   "metadata": {},
   "outputs": [],
   "source": [
    "expectation_configuration = ExpectationConfiguration(\n",
    "    **{\n",
    "        \"expectation_type\": \"expect_column_values_to_not_be_null\",\n",
    "        \"meta\": {},\n",
    "        \"kwargs\": {\"column\": \"id\"},\n",
    "    }\n",
    ")\n",
    "suite.add_expectation(expectation_configuration=expectation_configuration)"
   ]
  },
  {
   "cell_type": "code",
   "execution_count": null,
   "id": "literary-subscriber",
   "metadata": {},
   "outputs": [],
   "source": [
    "expectation_configuration = ExpectationConfiguration(\n",
    "    **{\n",
    "        \"expectation_type\": \"expect_column_values_to_be_in_type_list\",\n",
    "        \"meta\": {},\n",
    "        \"kwargs\": {\n",
    "            \"column\": \"id\",\n",
    "            \"type_list\": [\n",
    "                \"INTEGER\",\n",
    "                \"integer\",\n",
    "                \"int\",\n",
    "                \"int_\",\n",
    "                \"int8\",\n",
    "                \"int16\",\n",
    "                \"int32\",\n",
    "                \"int64\",\n",
    "                \"uint8\",\n",
    "                \"uint16\",\n",
    "                \"uint32\",\n",
    "                \"uint64\",\n",
    "                \"Int8Dtype\",\n",
    "                \"Int16Dtype\",\n",
    "                \"Int32Dtype\",\n",
    "                \"Int64Dtype\",\n",
    "                \"UInt8Dtype\",\n",
    "                \"UInt16Dtype\",\n",
    "                \"UInt32Dtype\",\n",
    "                \"UInt64Dtype\",\n",
    "                \"INT\",\n",
    "                \"INTEGER\",\n",
    "                \"INT64\",\n",
    "                \"TINYINT\",\n",
    "                \"BYTEINT\",\n",
    "                \"SMALLINT\",\n",
    "                \"BIGINT\",\n",
    "                \"IntegerType\",\n",
    "                \"LongType\",\n",
    "            ],\n",
    "        },\n",
    "    }\n",
    ")\n",
    "suite.add_expectation(expectation_configuration=expectation_configuration)"
   ]
  },
  {
   "cell_type": "code",
   "execution_count": null,
   "id": "common-firmware",
   "metadata": {},
   "outputs": [],
   "source": [
    "expectation_configuration = ExpectationConfiguration(\n",
    "    **{\n",
    "        \"expectation_type\": \"expect_column_values_to_be_unique\",\n",
    "        \"meta\": {},\n",
    "        \"kwargs\": {\"column\": \"id\"},\n",
    "    }\n",
    ")\n",
    "suite.add_expectation(expectation_configuration=expectation_configuration)"
   ]
  },
  {
   "cell_type": "markdown",
   "id": "corresponding-replacement",
   "metadata": {},
   "source": [
    "#### `user_id`"
   ]
  },
  {
   "cell_type": "code",
   "execution_count": null,
   "id": "narrative-observer",
   "metadata": {},
   "outputs": [],
   "source": [
    "expectation_configuration = ExpectationConfiguration(\n",
    "    **{\n",
    "        \"expectation_type\": \"expect_column_values_to_not_be_null\",\n",
    "        \"meta\": {},\n",
    "        \"kwargs\": {\"column\": \"user_id\"},\n",
    "    }\n",
    ")\n",
    "suite.add_expectation(expectation_configuration=expectation_configuration)"
   ]
  },
  {
   "cell_type": "code",
   "execution_count": null,
   "id": "collect-underwear",
   "metadata": {},
   "outputs": [],
   "source": [
    "expectation_configuration = ExpectationConfiguration(\n",
    "    **{\n",
    "        \"expectation_type\": \"expect_column_values_to_be_in_type_list\",\n",
    "        \"meta\": {},\n",
    "        \"kwargs\": {\n",
    "            \"column\": \"user_id\",\n",
    "            \"type_list\": [\n",
    "                \"INTEGER\",\n",
    "                \"integer\",\n",
    "                \"int\",\n",
    "                \"int_\",\n",
    "                \"int8\",\n",
    "                \"int16\",\n",
    "                \"int32\",\n",
    "                \"int64\",\n",
    "                \"uint8\",\n",
    "                \"uint16\",\n",
    "                \"uint32\",\n",
    "                \"uint64\",\n",
    "                \"Int8Dtype\",\n",
    "                \"Int16Dtype\",\n",
    "                \"Int32Dtype\",\n",
    "                \"Int64Dtype\",\n",
    "                \"UInt8Dtype\",\n",
    "                \"UInt16Dtype\",\n",
    "                \"UInt32Dtype\",\n",
    "                \"UInt64Dtype\",\n",
    "                \"INT\",\n",
    "                \"INTEGER\",\n",
    "                \"INT64\",\n",
    "                \"TINYINT\",\n",
    "                \"BYTEINT\",\n",
    "                \"SMALLINT\",\n",
    "                \"BIGINT\",\n",
    "                \"IntegerType\",\n",
    "                \"LongType\",\n",
    "            ],\n",
    "        },\n",
    "    }\n",
    ")\n",
    "suite.add_expectation(expectation_configuration=expectation_configuration)"
   ]
  },
  {
   "cell_type": "markdown",
   "id": "acoustic-demonstration",
   "metadata": {},
   "source": [
    "#### `order_date`"
   ]
  },
  {
   "cell_type": "code",
   "execution_count": null,
   "id": "smaller-questionnaire",
   "metadata": {},
   "outputs": [],
   "source": [
    "expectation_configuration = ExpectationConfiguration(\n",
    "    **{\n",
    "        \"expectation_type\": \"expect_column_values_to_not_be_null\",\n",
    "        \"meta\": {},\n",
    "        \"kwargs\": {\"column\": \"order_date\"},\n",
    "    }\n",
    ")\n",
    "suite.add_expectation(expectation_configuration=expectation_configuration)"
   ]
  },
  {
   "cell_type": "code",
   "execution_count": null,
   "id": "exclusive-giving",
   "metadata": {},
   "outputs": [],
   "source": [
    "expectation_configuration = ExpectationConfiguration(\n",
    "    **{\n",
    "        \"expectation_type\": \"expect_column_values_to_be_in_type_list\",\n",
    "        \"meta\": {},\n",
    "        \"kwargs\": {\n",
    "            \"column\": \"order_date\",\n",
    "            \"type_list\": [\n",
    "                \"DATE\",\n",
    "                \"TIME\",\n",
    "                \"DATETIME\",\n",
    "                \"DATETIME2\",\n",
    "                \"DATETIME64\",\n",
    "                \"SMALLDATETIME\",\n",
    "                \"DATETIMEOFFSET\",\n",
    "                \"TIMESTAMP\",\n",
    "                \"Timestamp\",\n",
    "                \"TimestampType\",\n",
    "                \"DateType\",\n",
    "                \"datetime64\",\n",
    "                \"datetime64[ns]\",\n",
    "                \"timedelta[ns]\",\n",
    "                \"<M8[ns]\",\n",
    "            ],\n",
    "        },\n",
    "    }\n",
    ")\n",
    "suite.add_expectation(expectation_configuration=expectation_configuration)"
   ]
  },
  {
   "cell_type": "markdown",
   "id": "quality-reputation",
   "metadata": {},
   "source": [
    "#### `status`"
   ]
  },
  {
   "cell_type": "code",
   "execution_count": null,
   "id": "confirmed-constant",
   "metadata": {},
   "outputs": [],
   "source": [
    "expectation_configuration = ExpectationConfiguration(\n",
    "    **{\n",
    "        \"expectation_type\": \"expect_column_values_to_be_in_set\",\n",
    "        \"meta\": {},\n",
    "        \"kwargs\": {\n",
    "            \"column\": \"status\",\n",
    "            \"value_set\": [\n",
    "                \"completed\",\n",
    "                \"placed\",\n",
    "                \"return_pending\",\n",
    "                \"returned\",\n",
    "                \"shipped\",\n",
    "            ],\n",
    "        },\n",
    "    }\n",
    ")\n",
    "suite.add_expectation(expectation_configuration=expectation_configuration)"
   ]
  },
  {
   "cell_type": "code",
   "execution_count": null,
   "id": "former-script",
   "metadata": {},
   "outputs": [],
   "source": [
    "expectation_configuration = ExpectationConfiguration(\n",
    "    **{\n",
    "        \"expectation_type\": \"expect_column_values_to_not_be_null\",\n",
    "        \"meta\": {},\n",
    "        \"kwargs\": {\"column\": \"status\"},\n",
    "    }\n",
    ")\n",
    "suite.add_expectation(expectation_configuration=expectation_configuration)"
   ]
  },
  {
   "cell_type": "code",
   "execution_count": null,
   "id": "median-mercury",
   "metadata": {},
   "outputs": [],
   "source": [
    "expectation_configuration = ExpectationConfiguration(\n",
    "    **{\n",
    "        \"expectation_type\": \"expect_column_values_to_be_in_type_list\",\n",
    "        \"meta\": {},\n",
    "        \"kwargs\": {\n",
    "            \"column\": \"status\",\n",
    "            \"type_list\": [\n",
    "                \"CHAR\",\n",
    "                \"NCHAR\",\n",
    "                \"VARCHAR\",\n",
    "                \"NVARCHAR\",\n",
    "                \"TEXT\",\n",
    "                \"NTEXT\",\n",
    "                \"STRING\",\n",
    "                \"StringType\",\n",
    "                \"string\",\n",
    "                \"str\",\n",
    "                \"object\",\n",
    "                \"dtype('O')\",\n",
    "            ],\n",
    "        },\n",
    "    }\n",
    ")\n",
    "suite.add_expectation(expectation_configuration=expectation_configuration)"
   ]
  },
  {
   "cell_type": "markdown",
   "id": "renewable-amber",
   "metadata": {},
   "source": [
    "#### `_etl_loaded_at`"
   ]
  },
  {
   "cell_type": "code",
   "execution_count": null,
   "id": "known-bulgarian",
   "metadata": {},
   "outputs": [],
   "source": [
    "expectation_configuration = ExpectationConfiguration(\n",
    "    **{\n",
    "        \"expectation_type\": \"expect_column_values_to_not_be_null\",\n",
    "        \"meta\": {},\n",
    "        \"kwargs\": {\"column\": \"_etl_loaded_at\"},\n",
    "    }\n",
    ")\n",
    "suite.add_expectation(expectation_configuration=expectation_configuration)"
   ]
  },
  {
   "cell_type": "code",
   "execution_count": null,
   "id": "serious-aircraft",
   "metadata": {},
   "outputs": [],
   "source": [
    "expectation_configuration = ExpectationConfiguration(\n",
    "    **{\n",
    "        \"expectation_type\": \"expect_column_values_to_be_in_type_list\",\n",
    "        \"meta\": {},\n",
    "        \"kwargs\": {\n",
    "            \"column\": \"_etl_loaded_at\",\n",
    "            \"type_list\": [\n",
    "                \"DATE\",\n",
    "                \"TIME\",\n",
    "                \"DATETIME\",\n",
    "                \"DATETIME2\",\n",
    "                \"DATETIME64\",\n",
    "                \"SMALLDATETIME\",\n",
    "                \"DATETIMEOFFSET\",\n",
    "                \"TIMESTAMP\",\n",
    "                \"Timestamp\",\n",
    "                \"TimestampType\",\n",
    "                \"DateType\",\n",
    "                \"datetime64\",\n",
    "                \"datetime64[ns]\",\n",
    "                \"timedelta[ns]\",\n",
    "                \"<M8[ns]\",\n",
    "            ],\n",
    "        },\n",
    "    }\n",
    ")\n",
    "suite.add_expectation(expectation_configuration=expectation_configuration)"
   ]
  },
  {
   "cell_type": "markdown",
   "id": "iraqi-franklin",
   "metadata": {},
   "source": [
    "## Review & Save Your Expectations\n",
    "\n",
    "Let's save the expectation suite as a JSON file in the `great_expectations/expectations` directory of your project.\n",
    "\n",
    "Let's now rebuild your Data Docs, which helps you communicate about your data with both machines and humans."
   ]
  },
  {
   "cell_type": "code",
   "execution_count": null,
   "id": "continuing-assistant",
   "metadata": {},
   "outputs": [],
   "source": [
    "print(context.get_expectation_suite(expectation_suite_name=expectation_suite_name))\n",
    "context.save_expectation_suite(expectation_suite=suite, expectation_suite_name=expectation_suite_name)\n",
    "\n",
    "suite_identifier = ExpectationSuiteIdentifier(expectation_suite_name=expectation_suite_name)\n",
    "context.build_data_docs(resource_identifiers=[suite_identifier])\n",
    "context.open_data_docs(resource_identifier=suite_identifier)"
   ]
  }
 ],
 "metadata": {},
 "nbformat": 4,
 "nbformat_minor": 5
}
